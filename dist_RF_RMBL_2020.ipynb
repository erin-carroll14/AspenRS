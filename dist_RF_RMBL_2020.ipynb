{
  "nbformat": 4,
  "nbformat_minor": 0,
  "metadata": {
    "colab": {
      "name": "dist_RF_RMBL_2020",
      "provenance": [],
      "collapsed_sections": [],
      "authorship_tag": "ABX9TyNuM80Ss0WTagyQBLFiG0Jg",
      "include_colab_link": true
    },
    "kernelspec": {
      "name": "python3",
      "display_name": "Python 3"
    }
  },
  "cells": [
    {
      "cell_type": "markdown",
      "metadata": {
        "id": "view-in-github",
        "colab_type": "text"
      },
      "source": [
        "<a href=\"https://colab.research.google.com/github/erin-carroll14/AspenRS/blob/main/dist_RF_RMBL_2020.ipynb\" target=\"_parent\"><img src=\"https://colab.research.google.com/assets/colab-badge.svg\" alt=\"Open In Colab\"/></a>"
      ]
    },
    {
      "cell_type": "code",
      "metadata": {
        "id": "GCm2TXG7H9Zk"
      },
      "source": [
        "# import earth engine library\r\n",
        "import ee\r\n",
        "import folium\r\n",
        "from folium import plugins\r\n",
        "\r\n",
        "# establish connection to own earth engine account\r\n",
        "ee.Authenticate()\r\n",
        "ee.Initialize()"
      ],
      "execution_count": null,
      "outputs": []
    },
    {
      "cell_type": "code",
      "metadata": {
        "id": "IyQqGKkvHLFv"
      },
      "source": [
        "# call 2020 imagery stack\r\n",
        "!git clone https://www.github.com/erin-carroll14/AspenRS.git\r\n",
        "\r\n",
        "%cd /content/AspenRS\r\n",
        "\r\n",
        "from S2SRstack2020 import stacked2020_JunOct, Colorado"
      ],
      "execution_count": null,
      "outputs": []
    },
    {
      "cell_type": "code",
      "metadata": {
        "id": "PHLMwnS4GnHV"
      },
      "source": [
        "# Veg mask\r\n",
        "col = ee.ImageCollection('COPERNICUS/S2_SR').filterBounds(Colorado).filterDate('2020-01-01', '2021-01-01')\r\n",
        "\r\n",
        "# function to get only pixels classified as veg at any point in year\r\n",
        "def getVeg(img):\r\n",
        "  return img.mask(img.select('SCL').eq(4))\r\n",
        "\r\n",
        "colVeg = col.map(getVeg)\r\n",
        "imgVeg = colVeg.qualityMosaic('SCL')\r\n",
        "\r\n",
        "# mask stacked imagery by 2020 veg mask\r\n",
        "stackVeg = stacked2020_JunOct.mask(imgVeg.select('SCL'))\r\n"
      ],
      "execution_count": null,
      "outputs": []
    },
    {
      "cell_type": "code",
      "metadata": {
        "id": "GgtPsMeMYTLz"
      },
      "source": [
        "# clip to RMBL\r\n",
        "RMBL = ee.Geometry.Polygon([[-107.22694538043767,38.75434750566651],\r\n",
        "                            [-106.74629352496892,38.75434750566651],\r\n",
        "                            [-106.74629352496892,39.08236920480586],\r\n",
        "                            [-107.22694538043767,39.08236920480586],\r\n",
        "                            [-107.22694538043767,38.75434750566651]])\r\n",
        "\r\n",
        "stackVegRMBL2020 = stackVeg.clip(RMBL)"
      ],
      "execution_count": null,
      "outputs": []
    },
    {
      "cell_type": "code",
      "metadata": {
        "id": "csoy0qK_Zlte"
      },
      "source": [
        "# prepare reference data\r\n",
        "\r\n",
        "# load aspen reference points\r\n",
        "aspen = ee.FeatureCollection('users/erin_carroll/aspenAssets/refAspen')\r\n",
        "\r\n",
        "# add 'class' field (1=aspen presence)\r\n",
        "def getClass1(f):\r\n",
        "  return f.set('class', 1)\r\n",
        "aspen = aspen.map(getClass1)\r\n",
        "\r\n",
        "# load non-aspen reference points\r\n",
        "nonAspen = ee.FeatureCollection('users/erin_carroll/aspenAssets/refNonAspen')\r\n",
        "\r\n",
        "# add 'class' field (0=absence)\r\n",
        "def getClass0(f):\r\n",
        "  return f.set('class', 0)\r\n",
        "nonAspen = nonAspen.map(getClass0)\r\n",
        "\r\n",
        "# merge aspen and non-aspen points\r\n",
        "ref = aspen.merge(nonAspen)"
      ],
      "execution_count": null,
      "outputs": []
    },
    {
      "cell_type": "code",
      "metadata": {
        "id": "B2xOoWCCbK8h"
      },
      "source": [
        "# prepare training data from reference data\r\n",
        "\r\n",
        "# extract image bands at reference points, keep 'class' property from reference points\r\n",
        "reference = stackVegRMBL2020.sampleRegions(**{\r\n",
        "  'collection': ref,\r\n",
        "  'properties': ['class'],\r\n",
        "  'scale': 10\r\n",
        "})\r\n",
        "\r\n",
        "# subset validation sample (25%)\r\n",
        "random = reference.randomColumn('x')\r\n",
        "validation = random.filter(ee.Filter.lt('x', 0.25))\r\n",
        "training = random.filter(ee.Filter.gte('x', 0.25))\r\n"
      ],
      "execution_count": null,
      "outputs": []
    },
    {
      "cell_type": "code",
      "metadata": {
        "id": "wCoyyenub_YZ"
      },
      "source": [
        "# create and train model\r\n",
        "bandsAll = ['B2', 'B2_1', 'B2_2', 'B2_3', 'B2_4', 'B3', 'B3_1', 'B3_2', 'B3_3', 'B3_4', 'B4', 'B4_1', 'B4_2', 'B4_3', 'B4_4', 'B5', 'B5_1', 'B5_2', 'B5_3', 'B5_4', 'B6', 'B6_1', 'B6_2', 'B6_3', 'B6_4', 'B7', 'B7_1', 'B7_2', 'B7_3', 'B7_4', 'B8', 'B8_1', 'B8_2', 'B8_3', 'B8_4', 'B8A', 'B8A_1', 'B8A_2', 'B8A_3', 'B8A_4', 'B11', 'B11_1', 'B11_2', 'B11_3','B11_4', 'B12', 'B12_1', 'B12_2', 'B12_3', 'B12_4']\r\n",
        "\r\n",
        "classifier = ee.Classifier.smileRandomForest(10).train(**{\r\n",
        "      'features': training,\r\n",
        "      'classProperty': 'class',\r\n",
        "      'inputProperties': bandsAll\r\n",
        "    });"
      ],
      "execution_count": null,
      "outputs": []
    },
    {
      "cell_type": "code",
      "metadata": {
        "id": "LDFQJjtgcXwE"
      },
      "source": [
        "# deploy model\r\n",
        "aspenMask2020 = stackVegRMBL2020.classify(classifier)"
      ],
      "execution_count": null,
      "outputs": []
    },
    {
      "cell_type": "code",
      "metadata": {
        "id": "RSfaC-u8celH"
      },
      "source": [
        "# confusion matrices\r\n",
        "\r\n",
        "# training\r\n",
        "trainAccuracy = classifier.confusionMatrix()\r\n",
        "print('Training error matrix: ', trainAccuracy.getInfo())\r\n",
        "print('Training overall accuracy: ', trainAccuracy.accuracy().getInfo())\r\n",
        "\r\n",
        "# validation\r\n",
        "validated = validation.classify(classifier)\r\n",
        "valAccuracy = validated.errorMatrix('class', 'classification')\r\n",
        "print('Validation error matrix: ', valAccuracy.getInfo())\r\n",
        "print('Validation overall accuracy: ', valAccuracy.accuracy().getInfo())"
      ],
      "execution_count": null,
      "outputs": []
    },
    {
      "cell_type": "code",
      "metadata": {
        "id": "RER4m5OgmmoX"
      },
      "source": [
        "# prepare mapping capabilities (add basemaps and define mapping function)\r\n",
        "\r\n",
        "# Add basemaps to folium\r\n",
        "basemaps = {\r\n",
        "    'Google Satellite': folium.TileLayer(\r\n",
        "        tiles = 'https://mt1.google.com/vt/lyrs=s&x={x}&y={y}&z={z}',\r\n",
        "        attr = 'Google',\r\n",
        "        name = 'Google Satellite',\r\n",
        "        overlay = True,\r\n",
        "        control = True\r\n",
        "    )\r\n",
        "}\r\n",
        "\r\n",
        "# Define a method for displaying Earth Engine image tiles on a folium map.\r\n",
        "def add_ee_layer(self, ee_object, vis_params, name):\r\n",
        "    \r\n",
        "    try:    \r\n",
        "        # display ee.Image()\r\n",
        "        if isinstance(ee_object, ee.image.Image):    \r\n",
        "            map_id_dict = ee.Image(ee_object).getMapId(vis_params)\r\n",
        "            folium.raster_layers.TileLayer(\r\n",
        "            tiles = map_id_dict['tile_fetcher'].url_format,\r\n",
        "            attr = 'Google Earth Engine',\r\n",
        "            name = name,\r\n",
        "            overlay = True,\r\n",
        "            control = True\r\n",
        "            ).add_to(self)\r\n",
        "        # display ee.ImageCollection()\r\n",
        "        elif isinstance(ee_object, ee.imagecollection.ImageCollection):    \r\n",
        "            ee_object_new = ee_object.mosaic()\r\n",
        "            map_id_dict = ee.Image(ee_object_new).getMapId(vis_params)\r\n",
        "            folium.raster_layers.TileLayer(\r\n",
        "            tiles = map_id_dict['tile_fetcher'].url_format,\r\n",
        "            attr = 'Google Earth Engine',\r\n",
        "            name = name,\r\n",
        "            overlay = True,\r\n",
        "            control = True\r\n",
        "            ).add_to(self)\r\n",
        "        # display ee.Geometry()\r\n",
        "        elif isinstance(ee_object, ee.geometry.Geometry):    \r\n",
        "            folium.GeoJson(\r\n",
        "            data = ee_object.getInfo(),\r\n",
        "            name = name,\r\n",
        "            overlay = True,\r\n",
        "            control = True\r\n",
        "        ).add_to(self)\r\n",
        "        # display ee.FeatureCollection()\r\n",
        "        elif isinstance(ee_object, ee.featurecollection.FeatureCollection):  \r\n",
        "            ee_object_new = ee.Image().paint(ee_object, 0, 2)\r\n",
        "            map_id_dict = ee.Image(ee_object_new).getMapId(vis_params)\r\n",
        "            folium.raster_layers.TileLayer(\r\n",
        "            tiles = map_id_dict['tile_fetcher'].url_format,\r\n",
        "            attr = 'Google Earth Engine',\r\n",
        "            name = name,\r\n",
        "            overlay = True,\r\n",
        "            control = True\r\n",
        "        ).add_to(self)\r\n",
        "    \r\n",
        "    except:\r\n",
        "        print(\"Could not display {}\".format(name))\r\n",
        "    \r\n",
        "# Add EE drawing method to folium.\r\n",
        "folium.Map.add_ee_layer = add_ee_layer"
      ],
      "execution_count": null,
      "outputs": []
    },
    {
      "cell_type": "code",
      "metadata": {
        "id": "SQB-CFEDnC2c"
      },
      "source": [
        "# prepare map\r\n",
        "\r\n",
        "# create a folium map object, centered at RMBL\r\n",
        "m = folium.Map(location=[38.9587,-106.9878], zoom_start=11)\r\n",
        "# set visualization parameters\r\n",
        "rgbVis = {'min': 0.0, 'max': 5000, 'bands': ['B4', 'B3', 'B2']}\r\n",
        "vis = {'min':0, 'max':1, 'palette':'red, green'}\r\n",
        "\r\n",
        "# add fullscreen button\r\n",
        "plugins.Fullscreen().add_to(m)"
      ],
      "execution_count": null,
      "outputs": []
    },
    {
      "cell_type": "code",
      "metadata": {
        "id": "4_rJ9bDZnU_y"
      },
      "source": [
        "basemaps['Google Satellite'].add_to(m)\r\n",
        "\r\n",
        "m.add_ee_layer(aspenMask2020, vis, 'Aspen Mask 2020')\r\n",
        "m.add_ee_layer(aspen, {'color': 'yellow'}, 'aspen')\r\n",
        "m.add_ee_layer(nonAspen, {'color': 'purple'}, 'non-aspen')\r\n",
        "\r\n",
        "# add a layer control panel to the map\r\n",
        "m.add_child(folium.LayerControl())\r\n",
        "\r\n",
        "# display the map\r\n",
        "display(m)\r\n"
      ],
      "execution_count": null,
      "outputs": []
    }
  ]
}