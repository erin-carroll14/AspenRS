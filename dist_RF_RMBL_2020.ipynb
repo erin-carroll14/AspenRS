{
  "nbformat": 4,
  "nbformat_minor": 0,
  "metadata": {
    "colab": {
      "name": "dist_RF_RMBL_2020",
      "provenance": [],
      "collapsed_sections": [],
      "authorship_tag": "ABX9TyMfyPPAa8X9xUb3vUoUSAs8",
      "include_colab_link": true
    },
    "kernelspec": {
      "name": "python3",
      "display_name": "Python 3"
    }
  },
  "cells": [
    {
      "cell_type": "markdown",
      "metadata": {
        "id": "view-in-github",
        "colab_type": "text"
      },
      "source": [
        "<a href=\"https://colab.research.google.com/github/erin-carroll14/AspenRS/blob/main/dist_RF_RMBL_2020.ipynb\" target=\"_parent\"><img src=\"https://colab.research.google.com/assets/colab-badge.svg\" alt=\"Open In Colab\"/></a>"
      ]
    },
    {
      "cell_type": "code",
      "metadata": {
        "id": "0nFNN3q0HPsQ",
        "colab": {
          "base_uri": "https://localhost:8080/"
        },
        "outputId": "ea878934-0d0b-4aba-8fce-0454e80ab233"
      },
      "source": [
        "# connect to google drive\r\n",
        "from google.colab import drive\r\n",
        "drive.mount('/content/drive')"
      ],
      "execution_count": null,
      "outputs": [
        {
          "output_type": "stream",
          "text": [
            "Mounted at /content/drive\n"
          ],
          "name": "stdout"
        }
      ]
    },
    {
      "cell_type": "code",
      "metadata": {
        "colab": {
          "base_uri": "https://localhost:8080/"
        },
        "id": "GCm2TXG7H9Zk",
        "outputId": "7bb0d660-cc39-4238-ab7f-4403bd658609"
      },
      "source": [
        "# import earth engine library\r\n",
        "import ee\r\n",
        "import folium\r\n",
        "from folium import plugins\r\n",
        "\r\n",
        "# establish connection to own earth engine account\r\n",
        "ee.Authenticate()\r\n",
        "ee.Initialize()"
      ],
      "execution_count": null,
      "outputs": [
        {
          "output_type": "stream",
          "text": [
            "To authorize access needed by Earth Engine, open the following URL in a web browser and follow the instructions. If the web browser does not start automatically, please manually browse the URL below.\n",
            "\n",
            "    https://accounts.google.com/o/oauth2/auth?client_id=517222506229-vsmmajv00ul0bs7p89v5m89qs8eb9359.apps.googleusercontent.com&scope=https%3A%2F%2Fwww.googleapis.com%2Fauth%2Fearthengine+https%3A%2F%2Fwww.googleapis.com%2Fauth%2Fdevstorage.full_control&redirect_uri=urn%3Aietf%3Awg%3Aoauth%3A2.0%3Aoob&response_type=code&code_challenge=YRqVf_fCPad5ys-2g76OQ5Yec2r_BeGCARs_EykO9Dk&code_challenge_method=S256\n",
            "\n",
            "The authorization workflow will generate a code, which you should paste in the box below. \n",
            "Enter verification code: 4/1AY0e-g4eMuGW5_XVgI-CJfqe7H3jVQDjp_ZWQjiidwJ55c10E-zWGFMRpWU\n",
            "\n",
            "Successfully saved authorization token.\n"
          ],
          "name": "stdout"
        }
      ]
    },
    {
      "cell_type": "code",
      "metadata": {
        "colab": {
          "base_uri": "https://localhost:8080/"
        },
        "id": "IyQqGKkvHLFv",
        "outputId": "538d1883-0678-4bc6-f8cb-0a2c85f4373f"
      },
      "source": [
        "# call 2019 imagery stack\r\n",
        "%cd /content/drive/My\\ Drive/Colab\\ Notebooks/Aspen/Cytotype\r\n",
        "\r\n",
        "from S2SRstack2020 import stacked2020_JunOct, Colorado"
      ],
      "execution_count": null,
      "outputs": [
        {
          "output_type": "stream",
          "text": [
            "/content/drive/My Drive/Colab Notebooks/Aspen/Cytotype\n",
            "To authorize access needed by Earth Engine, open the following URL in a web browser and follow the instructions. If the web browser does not start automatically, please manually browse the URL below.\n",
            "\n",
            "    https://accounts.google.com/o/oauth2/auth?client_id=517222506229-vsmmajv00ul0bs7p89v5m89qs8eb9359.apps.googleusercontent.com&scope=https%3A%2F%2Fwww.googleapis.com%2Fauth%2Fearthengine+https%3A%2F%2Fwww.googleapis.com%2Fauth%2Fdevstorage.full_control&redirect_uri=urn%3Aietf%3Awg%3Aoauth%3A2.0%3Aoob&response_type=code&code_challenge=UDPA32DSZ6_97QBOiENlDKLksUhIGy4ri53DOgdIsR8&code_challenge_method=S256\n",
            "\n",
            "The authorization workflow will generate a code, which you should paste in the box below. \n",
            "Enter verification code: 4/1AY0e-g64hXDQZSrpu4HH6MikZ8klr3HLEUp8_nTmRoyJqoZTxsk5B9AbVCU\n",
            "\n",
            "Successfully saved authorization token.\n",
            "stacked2020 loaded\n"
          ],
          "name": "stdout"
        }
      ]
    },
    {
      "cell_type": "code",
      "metadata": {
        "id": "PHLMwnS4GnHV"
      },
      "source": [
        "# Veg mask\r\n",
        "col = ee.ImageCollection('COPERNICUS/S2_SR').filterBounds(Colorado).filterDate('2020-01-01', '2021-01-01')\r\n",
        "\r\n",
        "# function to get only pixels classified as veg at any point in year\r\n",
        "def getVeg(img):\r\n",
        "  return img.mask(img.select('SCL').eq(4))\r\n",
        "\r\n",
        "colVeg = col.map(getVeg)\r\n",
        "imgVeg = colVeg.qualityMosaic('SCL')\r\n",
        "\r\n",
        "# mask stacked imagery by 2020 veg mask\r\n",
        "stackVeg = stacked2020_JunOct.mask(imgVeg.select('SCL'))\r\n"
      ],
      "execution_count": null,
      "outputs": []
    },
    {
      "cell_type": "code",
      "metadata": {
        "id": "GgtPsMeMYTLz"
      },
      "source": [
        "# clip to RMBL\r\n",
        "RMBL = ee.Geometry.Polygon([[-107.22694538043767,38.75434750566651],\r\n",
        "                            [-106.74629352496892,38.75434750566651],\r\n",
        "                            [-106.74629352496892,39.08236920480586],\r\n",
        "                            [-107.22694538043767,39.08236920480586],\r\n",
        "                            [-107.22694538043767,38.75434750566651]])\r\n",
        "\r\n",
        "stackVegRMBL2020 = stackVeg.clip(RMBL)"
      ],
      "execution_count": null,
      "outputs": []
    },
    {
      "cell_type": "code",
      "metadata": {
        "id": "csoy0qK_Zlte"
      },
      "source": [
        "# prepare reference data\r\n",
        "\r\n",
        "# load aspen reference points\r\n",
        "aspen = ee.FeatureCollection('users/erin_carroll/aspenAssets/refAspen')\r\n",
        "\r\n",
        "# add 'class' field (1=aspen presence)\r\n",
        "def getClass1(f):\r\n",
        "  return f.set('class', 1)\r\n",
        "aspen = aspen.map(getClass1)\r\n",
        "\r\n",
        "# load non-aspen reference points\r\n",
        "nonAspen = ee.FeatureCollection('users/erin_carroll/aspenAssets/refNonAspen')\r\n",
        "\r\n",
        "# add 'class' field (0=absence)\r\n",
        "def getClass0(f):\r\n",
        "  return f.set('class', 0)\r\n",
        "nonAspen = nonAspen.map(getClass0)\r\n",
        "\r\n",
        "# merge aspen and non-aspen points\r\n",
        "ref = aspen.merge(nonAspen)"
      ],
      "execution_count": null,
      "outputs": []
    },
    {
      "cell_type": "code",
      "metadata": {
        "id": "B2xOoWCCbK8h"
      },
      "source": [
        "# prepare training data from reference data\r\n",
        "\r\n",
        "# extract image bands at reference points, keep 'class' property from reference points\r\n",
        "reference = stackVegRMBL2020.sampleRegions(**{\r\n",
        "  'collection': ref,\r\n",
        "  'properties': ['class'],\r\n",
        "  'scale': 10\r\n",
        "})\r\n",
        "\r\n",
        "# subset validation sample (25%)\r\n",
        "random = reference.randomColumn('x')\r\n",
        "validation = random.filter(ee.Filter.lt('x', 0.25))\r\n",
        "training = random.filter(ee.Filter.gte('x', 0.25))\r\n"
      ],
      "execution_count": null,
      "outputs": []
    },
    {
      "cell_type": "code",
      "metadata": {
        "id": "wCoyyenub_YZ"
      },
      "source": [
        "# create and train model\r\n",
        "bandsAll = ['B2', 'B2_1', 'B2_2', 'B2_3', 'B2_4', 'B3', 'B3_1', 'B3_2', 'B3_3', 'B3_4', 'B4', 'B4_1', 'B4_2', 'B4_3', 'B4_4', 'B5', 'B5_1', 'B5_2', 'B5_3', 'B5_4', 'B6', 'B6_1', 'B6_2', 'B6_3', 'B6_4', 'B7', 'B7_1', 'B7_2', 'B7_3', 'B7_4', 'B8', 'B8_1', 'B8_2', 'B8_3', 'B8_4', 'B8A', 'B8A_1', 'B8A_2', 'B8A_3', 'B8A_4', 'B11', 'B11_1', 'B11_2', 'B11_3','B11_4', 'B12', 'B12_1', 'B12_2', 'B12_3', 'B12_4']\r\n",
        "\r\n",
        "classifier = ee.Classifier.smileRandomForest(10).train(**{\r\n",
        "      'features': training,\r\n",
        "      'classProperty': 'class',\r\n",
        "      'inputProperties': bandsAll\r\n",
        "    });"
      ],
      "execution_count": null,
      "outputs": []
    },
    {
      "cell_type": "code",
      "metadata": {
        "id": "LDFQJjtgcXwE"
      },
      "source": [
        "# deploy model\r\n",
        "aspenMask2020 = stackVegRMBL2020.classify(classifier)"
      ],
      "execution_count": null,
      "outputs": []
    },
    {
      "cell_type": "code",
      "metadata": {
        "colab": {
          "base_uri": "https://localhost:8080/"
        },
        "id": "RSfaC-u8celH",
        "outputId": "aab9ddc1-8efe-43fb-ecd0-c83d5e731ded"
      },
      "source": [
        "# confusion matrices\r\n",
        "\r\n",
        "# training\r\n",
        "trainAccuracy = classifier.confusionMatrix()\r\n",
        "print('Training error matrix: ', trainAccuracy.getInfo())\r\n",
        "print('Training overall accuracy: ', trainAccuracy.accuracy().getInfo())\r\n",
        "\r\n",
        "# validation\r\n",
        "validated = validation.classify(classifier)\r\n",
        "valAccuracy = validated.errorMatrix('class', 'classification')\r\n",
        "print('Validation error matrix: ', valAccuracy.getInfo())\r\n",
        "print('Validation overall accuracy: ', valAccuracy.accuracy().getInfo())"
      ],
      "execution_count": null,
      "outputs": [
        {
          "output_type": "stream",
          "text": [
            "Training error matrix:  [[519, 3], [11, 566]]\n",
            "Training overall accuracy:  0.9834254143646409\n",
            "Validation error matrix:  [[164, 10], [12, 184]]\n",
            "Validation overall accuracy:  0.9392265193370166\n"
          ],
          "name": "stdout"
        }
      ]
    },
    {
      "cell_type": "code",
      "metadata": {
        "id": "RER4m5OgmmoX"
      },
      "source": [
        "# prepare mapping capabilities (add basemaps and define mapping function)\r\n",
        "\r\n",
        "# Add basemaps to folium\r\n",
        "basemaps = {\r\n",
        "    'Google Maps': folium.TileLayer(\r\n",
        "        tiles = 'https://mt1.google.com/vt/lyrs=m&x={x}&y={y}&z={z}',\r\n",
        "        attr = 'Google',\r\n",
        "        name = 'Google Maps',\r\n",
        "        overlay = True,\r\n",
        "        control = True\r\n",
        "    ),\r\n",
        "    'Google Satellite': folium.TileLayer(\r\n",
        "        tiles = 'https://mt1.google.com/vt/lyrs=s&x={x}&y={y}&z={z}',\r\n",
        "        attr = 'Google',\r\n",
        "        name = 'Google Satellite',\r\n",
        "        overlay = True,\r\n",
        "        control = True\r\n",
        "    ),\r\n",
        "    'Google Terrain': folium.TileLayer(\r\n",
        "        tiles = 'https://mt1.google.com/vt/lyrs=p&x={x}&y={y}&z={z}',\r\n",
        "        attr = 'Google',\r\n",
        "        name = 'Google Terrain',\r\n",
        "        overlay = True,\r\n",
        "        control = True\r\n",
        "    )\r\n",
        "}\r\n",
        "\r\n",
        "# Define a method for displaying Earth Engine image tiles on a folium map.\r\n",
        "def add_ee_layer(self, ee_object, vis_params, name):\r\n",
        "    \r\n",
        "    try:    \r\n",
        "        # display ee.Image()\r\n",
        "        if isinstance(ee_object, ee.image.Image):    \r\n",
        "            map_id_dict = ee.Image(ee_object).getMapId(vis_params)\r\n",
        "            folium.raster_layers.TileLayer(\r\n",
        "            tiles = map_id_dict['tile_fetcher'].url_format,\r\n",
        "            attr = 'Google Earth Engine',\r\n",
        "            name = name,\r\n",
        "            overlay = True,\r\n",
        "            control = True\r\n",
        "            ).add_to(self)\r\n",
        "        # display ee.ImageCollection()\r\n",
        "        elif isinstance(ee_object, ee.imagecollection.ImageCollection):    \r\n",
        "            ee_object_new = ee_object.mosaic()\r\n",
        "            map_id_dict = ee.Image(ee_object_new).getMapId(vis_params)\r\n",
        "            folium.raster_layers.TileLayer(\r\n",
        "            tiles = map_id_dict['tile_fetcher'].url_format,\r\n",
        "            attr = 'Google Earth Engine',\r\n",
        "            name = name,\r\n",
        "            overlay = True,\r\n",
        "            control = True\r\n",
        "            ).add_to(self)\r\n",
        "        # display ee.Geometry()\r\n",
        "        elif isinstance(ee_object, ee.geometry.Geometry):    \r\n",
        "            folium.GeoJson(\r\n",
        "            data = ee_object.getInfo(),\r\n",
        "            name = name,\r\n",
        "            overlay = True,\r\n",
        "            control = True\r\n",
        "        ).add_to(self)\r\n",
        "        # display ee.FeatureCollection()\r\n",
        "        elif isinstance(ee_object, ee.featurecollection.FeatureCollection):  \r\n",
        "            ee_object_new = ee.Image().paint(ee_object, 0, 2)\r\n",
        "            map_id_dict = ee.Image(ee_object_new).getMapId(vis_params)\r\n",
        "            folium.raster_layers.TileLayer(\r\n",
        "            tiles = map_id_dict['tile_fetcher'].url_format,\r\n",
        "            attr = 'Google Earth Engine',\r\n",
        "            name = name,\r\n",
        "            overlay = True,\r\n",
        "            control = True\r\n",
        "        ).add_to(self)\r\n",
        "    \r\n",
        "    except:\r\n",
        "        print(\"Could not display {}\".format(name))\r\n",
        "    \r\n",
        "# Add EE drawing method to folium.\r\n",
        "folium.Map.add_ee_layer = add_ee_layer"
      ],
      "execution_count": null,
      "outputs": []
    },
    {
      "cell_type": "code",
      "metadata": {
        "colab": {
          "base_uri": "https://localhost:8080/"
        },
        "id": "SQB-CFEDnC2c",
        "outputId": "0444cf53-97ed-4f8a-db7e-88c200253276"
      },
      "source": [
        "# prepare map\r\n",
        "\r\n",
        "# create a folium map object, centered at RMBL\r\n",
        "m = folium.Map(location=[38.9587,-106.9878], zoom_start=11)\r\n",
        "# set visualization parameters\r\n",
        "rgbVis = {'min': 0.0, 'max': 5000, 'bands': ['B4', 'B3', 'B2']}\r\n",
        "vis = {'min':0, 'max':1, 'palette':'red, green'}\r\n",
        "\r\n",
        "# add fullscreen button\r\n",
        "plugins.Fullscreen().add_to(m)"
      ],
      "execution_count": null,
      "outputs": [
        {
          "output_type": "execute_result",
          "data": {
            "text/plain": [
              "<folium.plugins.fullscreen.Fullscreen at 0x7f79fc5b72b0>"
            ]
          },
          "metadata": {
            "tags": []
          },
          "execution_count": 15
        }
      ]
    },
    {
      "cell_type": "code",
      "metadata": {
        "colab": {
          "base_uri": "https://localhost:8080/",
          "height": 712
        },
        "id": "4_rJ9bDZnU_y",
        "outputId": "e7f07d83-f528-435b-9f16-2a3ea95c6864"
      },
      "source": [
        "m.add_ee_layer(aspenMask2020, vis, 'Aspen Mask 2020')\r\n",
        "m.add_ee_layer(aspen, {'color': 'yellow'}, 'aspen')\r\n",
        "m.add_ee_layer(nonAspen, {'color': 'purple'}, 'non-aspen')\r\n",
        "\r\n",
        "# add a layer control panel to the map\r\n",
        "m.add_child(folium.LayerControl())\r\n",
        "\r\n",
        "# display the map\r\n",
        "display(m)\r\n"
      ],
      "execution_count": null,
      "outputs": [
        {
          "output_type": "display_data",
          "data": {
            "text/html": [
              "<div style=\"width:100%;\"><div style=\"position:relative;width:100%;height:0;padding-bottom:60%;\"><span style=\"color:#565656\">Make this Notebook Trusted to load map: File -> Trust Notebook</span><iframe src=\"about:blank\" style=\"position:absolute;width:100%;height:100%;left:0;top:0;border:none !important;\" data-html=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 onload=\"this.contentDocument.open();this.contentDocument.write(atob(this.getAttribute('data-html')));this.contentDocument.close();\" allowfullscreen webkitallowfullscreen mozallowfullscreen></iframe></div></div>"
            ],
            "text/plain": [
              "<folium.folium.Map at 0x7f79fc5b7b00>"
            ]
          },
          "metadata": {
            "tags": []
          }
        }
      ]
    }
  ]
}