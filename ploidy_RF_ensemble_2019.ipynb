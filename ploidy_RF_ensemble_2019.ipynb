{
  "nbformat": 4,
  "nbformat_minor": 0,
  "metadata": {
    "colab": {
      "name": "ploidy_RF_ensemble_2019",
      "provenance": [],
      "collapsed_sections": [],
      "authorship_tag": "ABX9TyM2Yme9g/k64crx4ti2Vf0o",
      "include_colab_link": true
    },
    "kernelspec": {
      "name": "python3",
      "display_name": "Python 3"
    }
  },
  "cells": [
    {
      "cell_type": "markdown",
      "metadata": {
        "id": "view-in-github",
        "colab_type": "text"
      },
      "source": [
        "<a href=\"https://colab.research.google.com/github/erin-carroll14/AspenRS/blob/main/ploidy_RF_ensemble_2019.ipynb\" target=\"_parent\"><img src=\"https://colab.research.google.com/assets/colab-badge.svg\" alt=\"Open In Colab\"/></a>"
      ]
    },
    {
      "cell_type": "code",
      "metadata": {
        "colab": {
          "base_uri": "https://localhost:8080/"
        },
        "id": "rnGUv1Pc8-uL",
        "outputId": "a7a7096e-7e65-41b6-a7c5-cb6242dd0891"
      },
      "source": [
        "# connect to google drive\r\n",
        "from google.colab import drive\r\n",
        "drive.mount('/content/drive')"
      ],
      "execution_count": null,
      "outputs": [
        {
          "output_type": "stream",
          "text": [
            "Mounted at /content/drive\n"
          ],
          "name": "stdout"
        }
      ]
    },
    {
      "cell_type": "code",
      "metadata": {
        "colab": {
          "base_uri": "https://localhost:8080/"
        },
        "id": "qHT51K039P76",
        "outputId": "e64be022-e7d3-4f3c-af6e-b00d6bfae568"
      },
      "source": [
        "# import earth engine library\r\n",
        "import ee\r\n",
        "\r\n",
        "# establish connection to own earth engine account\r\n",
        "ee.Authenticate()\r\n",
        "ee.Initialize()"
      ],
      "execution_count": null,
      "outputs": [
        {
          "output_type": "stream",
          "text": [
            "To authorize access needed by Earth Engine, open the following URL in a web browser and follow the instructions. If the web browser does not start automatically, please manually browse the URL below.\n",
            "\n",
            "    https://accounts.google.com/o/oauth2/auth?client_id=517222506229-vsmmajv00ul0bs7p89v5m89qs8eb9359.apps.googleusercontent.com&scope=https%3A%2F%2Fwww.googleapis.com%2Fauth%2Fearthengine+https%3A%2F%2Fwww.googleapis.com%2Fauth%2Fdevstorage.full_control&redirect_uri=urn%3Aietf%3Awg%3Aoauth%3A2.0%3Aoob&response_type=code&code_challenge=plcQ-ic0HxgBCvrDuXqeO9pn2DjnQl1JD9bYsd498KY&code_challenge_method=S256\n",
            "\n",
            "The authorization workflow will generate a code, which you should paste in the box below. \n",
            "Enter verification code: 4/1AY0e-g6Z8IDFZejjuhkYA998DjMxnz9rkazbrxu1h0Ugf1nJ8ODOXbJg_00\n",
            "\n",
            "Successfully saved authorization token.\n"
          ],
          "name": "stdout"
        }
      ]
    },
    {
      "cell_type": "code",
      "metadata": {
        "id": "P1txQyml9V4X",
        "colab": {
          "base_uri": "https://localhost:8080/"
        },
        "outputId": "481708e9-9d21-401c-b639-c72eeb9f7415"
      },
      "source": [
        "# call 2019 imagery stack and aspen mask\r\n",
        "%cd /content/drive/My\\ Drive/Colab\\ Notebooks/Aspen/Cytotype\r\n",
        "\r\n",
        "from S2SRstack2019 import stacked2019_JunOct, Colorado\r\n",
        "from dist_rf_rmbl_2019 import aspenMask2019, stackVegRMBL2019\r\n",
        "from RFensemble_ploidy import deploy, RFmodelPloidy"
      ],
      "execution_count": null,
      "outputs": [
        {
          "output_type": "stream",
          "text": [
            "/content/drive/My Drive/Colab Notebooks/Aspen/Cytotype\n",
            "To authorize access needed by Earth Engine, open the following URL in a web browser and follow the instructions. If the web browser does not start automatically, please manually browse the URL below.\n",
            "\n",
            "    https://accounts.google.com/o/oauth2/auth?client_id=517222506229-vsmmajv00ul0bs7p89v5m89qs8eb9359.apps.googleusercontent.com&scope=https%3A%2F%2Fwww.googleapis.com%2Fauth%2Fearthengine+https%3A%2F%2Fwww.googleapis.com%2Fauth%2Fdevstorage.full_control&redirect_uri=urn%3Aietf%3Awg%3Aoauth%3A2.0%3Aoob&response_type=code&code_challenge=4AcEifoukqee6LAbZETcGwnnUmd2IjkzSX44etQ0GYY&code_challenge_method=S256\n",
            "\n",
            "The authorization workflow will generate a code, which you should paste in the box below. \n",
            "Enter verification code: 4/1AY0e-g4UgJbwJ_6-1ztG2XuaKzYKQ-y1TMbn5mlvvZlah41yPusaskOCAhY\n",
            "\n",
            "Successfully saved authorization token.\n",
            "stacked2019 loaded\n",
            "Drive already mounted at /content/drive; to attempt to forcibly remount, call drive.mount(\"/content/drive\", force_remount=True).\n",
            "To authorize access needed by Earth Engine, open the following URL in a web browser and follow the instructions. If the web browser does not start automatically, please manually browse the URL below.\n",
            "\n",
            "    https://accounts.google.com/o/oauth2/auth?client_id=517222506229-vsmmajv00ul0bs7p89v5m89qs8eb9359.apps.googleusercontent.com&scope=https%3A%2F%2Fwww.googleapis.com%2Fauth%2Fearthengine+https%3A%2F%2Fwww.googleapis.com%2Fauth%2Fdevstorage.full_control&redirect_uri=urn%3Aietf%3Awg%3Aoauth%3A2.0%3Aoob&response_type=code&code_challenge=KrPcd7vvfUUBsqgeuCf-734Z95A_a0s-WAkNKYmEkws&code_challenge_method=S256\n",
            "\n",
            "The authorization workflow will generate a code, which you should paste in the box below. \n",
            "Enter verification code: 4/1AY0e-g54XOjeI6dl-Cv5fsfuZzzqJuBueEIiq5QGBlyWpqoaaDHnLLwptZk\n",
            "\n",
            "Successfully saved authorization token.\n",
            "To authorize access needed by Earth Engine, open the following URL in a web browser and follow the instructions. If the web browser does not start automatically, please manually browse the URL below.\n",
            "\n",
            "    https://accounts.google.com/o/oauth2/auth?client_id=517222506229-vsmmajv00ul0bs7p89v5m89qs8eb9359.apps.googleusercontent.com&scope=https%3A%2F%2Fwww.googleapis.com%2Fauth%2Fearthengine+https%3A%2F%2Fwww.googleapis.com%2Fauth%2Fdevstorage.full_control&redirect_uri=urn%3Aietf%3Awg%3Aoauth%3A2.0%3Aoob&response_type=code&code_challenge=83zRO8-HlSh94wiP8058yoik1lST-I4dI1OW_TvumMc&code_challenge_method=S256\n",
            "\n",
            "The authorization workflow will generate a code, which you should paste in the box below. \n",
            "Enter verification code: 4/1AY0e-g4PJpKXBShTq9kuv9uKAPzpt7F_2kbymnmOb2tMiFFUQiaEphdCihw\n",
            "\n",
            "Successfully saved authorization token.\n"
          ],
          "name": "stdout"
        }
      ]
    },
    {
      "cell_type": "code",
      "metadata": {
        "id": "xBimXbKJ-33-"
      },
      "source": [
        "# clip imagery to aspen mask\r\n",
        "stackVegRMBLaspen2019 = stacked2019_JunOct.mask(aspenMask2019.select('classification'))"
      ],
      "execution_count": null,
      "outputs": []
    },
    {
      "cell_type": "code",
      "metadata": {
        "id": "0rF4eMKa_Mdl"
      },
      "source": [
        "# prepare reference data\r\n",
        "\r\n",
        "# import aspen points with ploidy field attached\r\n",
        "aspen = ee.FeatureCollection('users/erin_carroll/aspenAssets/refAspenPloidy')\r\n",
        "dip = aspen.filter(ee.Filter.eq('ploidy', 2))\r\n",
        "trip = aspen.filter(ee.Filter.eq('ploidy', 3))\r\n",
        "\r\n",
        "# subset validation and training samples (25%, 75%)\r\n",
        "random2 = dip.randomColumn('x')\r\n",
        "validation2 = random2.filter(ee.Filter.lt('x', 0.25))\r\n",
        "training2 = random2.filter(ee.Filter.gte('x', 0.25))\r\n",
        "\r\n",
        "random3 = trip.randomColumn('x')\r\n",
        "validation3 = random3.filter(ee.Filter.lt('x', 0.25))\r\n",
        "training3 = random3.filter(ee.Filter.gte('x', 0.25))\r\n",
        "\r\n",
        "validation = validation2.merge(validation3)\r\n",
        "training = training2.merge(training3)"
      ],
      "execution_count": null,
      "outputs": []
    },
    {
      "cell_type": "code",
      "metadata": {
        "id": "eZqPOLKyvSld",
        "colab": {
          "base_uri": "https://localhost:8080/"
        },
        "outputId": "25c06fda-dbc4-4de1-d009-7d7590dcd601"
      },
      "source": [
        "# train on 2019 veg imagery\r\n",
        "result = RFmodelPloidy(training2, training3, stackVegRMBL2019, stackVegRMBLaspen2019)\r\n",
        "print('success')"
      ],
      "execution_count": null,
      "outputs": [
        {
          "output_type": "stream",
          "text": [
            "success\n"
          ],
          "name": "stdout"
        }
      ]
    },
    {
      "cell_type": "code",
      "metadata": {
        "id": "TCSG2XwR-NxD"
      },
      "source": [
        "# accuracy assessment\r\n",
        "trainResult = result.sampleRegions(collection=training, properties=['ploidy'], scale=10)\r\n",
        "valResult = result.sampleRegions(collection=validation, properties=['ploidy'], scale=10)"
      ],
      "execution_count": null,
      "outputs": []
    },
    {
      "cell_type": "code",
      "metadata": {
        "id": "W57TFlNIVam_"
      },
      "source": [
        "# set up export (printing directly to console not working - error 'too many concurrent aggregations'. Export and then imported as suggested)\r\n",
        "expT = ee.batch.Export.table.toDrive(collection=trainResult,\r\n",
        "                                     description='trainResult_2019',\r\n",
        "                                     fileFormat='CSV')\r\n",
        "expV = ee.batch.Export.table.toDrive(collection=valResult,\r\n",
        "                                     description='valResult_2019',\r\n",
        "                                     fileFormat='CSV')\r\n",
        "\r\n",
        "expT.start()\r\n",
        "expV.start()"
      ],
      "execution_count": null,
      "outputs": []
    },
    {
      "cell_type": "code",
      "metadata": {
        "id": "284a0JcjWody",
        "colab": {
          "base_uri": "https://localhost:8080/"
        },
        "outputId": "ee4c7503-06a9-4073-cc29-aae7c9af22a7"
      },
      "source": [
        "# when 'state': 'COMPLETED', move on to next cell to re-import\r\n",
        "print(expT.status())\r\n",
        "print(expV.status())"
      ],
      "execution_count": null,
      "outputs": [
        {
          "output_type": "stream",
          "text": [
            "{'state': 'COMPLETED', 'description': 'trainResult_2019', 'creation_timestamp_ms': 1610575980058, 'update_timestamp_ms': 1610576174730, 'start_timestamp_ms': 1610576038854, 'task_type': 'EXPORT_FEATURES', 'destination_uris': ['https://drive.google.com/'], 'attempt': 1, 'id': '2SEBQDSHYR47WMVWEITSHY2J', 'name': 'projects/earthengine-legacy/operations/2SEBQDSHYR47WMVWEITSHY2J'}\n",
            "{'state': 'COMPLETED', 'description': 'valResult_2019', 'creation_timestamp_ms': 1610575980443, 'update_timestamp_ms': 1610576252871, 'start_timestamp_ms': 1610576092562, 'task_type': 'EXPORT_FEATURES', 'destination_uris': ['https://drive.google.com/'], 'attempt': 1, 'id': 'JZ7OYYZSGC5WIAX4EXSBG4QA', 'name': 'projects/earthengine-legacy/operations/JZ7OYYZSGC5WIAX4EXSBG4QA'}\n"
          ],
          "name": "stdout"
        }
      ]
    },
    {
      "cell_type": "code",
      "metadata": {
        "id": "REOwcXONYkUm"
      },
      "source": [
        "# import results from drive\r\n",
        "\r\n",
        "!pip install -U -q PyDrive\r\n",
        "from pydrive.auth import GoogleAuth\r\n",
        "from pydrive.drive import GoogleDrive\r\n",
        "from google.colab import auth\r\n",
        "from oauth2client.client import GoogleCredentials\r\n",
        "\r\n",
        "# authenticate and create the PyDrive client.\r\n",
        "auth.authenticate_user()\r\n",
        "gauth = GoogleAuth()\r\n",
        "gauth.credentials = GoogleCredentials.get_application_default()\r\n",
        "drive = GoogleDrive(gauth)"
      ],
      "execution_count": null,
      "outputs": []
    },
    {
      "cell_type": "code",
      "metadata": {
        "id": "CVKMkZOeZ7w_"
      },
      "source": [
        "# important: update links each time!\r\n",
        "linkT = 'https://drive.google.com/file/d/15IXUsIMPtTXz5G7B4HtmOLJDhd0R4TvN/view?usp=sharing'\r\n",
        "linkV = 'https://drive.google.com/file/d/1U7IJPh1zqdNjbL_e9GyBAjL61SxTe6rt/view?usp=sharing'\r\n",
        "\r\n",
        "import pandas as pd \r\n",
        "  \r\n",
        "# to get the id part of the file \r\n",
        "idT = linkT.split(\"/\")[-2] \r\n",
        "idV = linkV.split(\"/\")[-2] \r\n",
        "\r\n",
        "downloadedT = drive.CreateFile({'id':idT})  \r\n",
        "downloadedT.GetContentFile('trainResult_2019.csv')   \r\n",
        "trainDF = pd.read_csv('trainResult_2019.csv') \r\n",
        "\r\n",
        "downloadedV = drive.CreateFile({'id':idV})  \r\n",
        "downloadedV.GetContentFile('valResult_2019.csv')   \r\n",
        "valDF = pd.read_csv('valResult_2019.csv') \r\n",
        "\r\n",
        "trainDF['result'] = trainDF['result'].astype(int)\r\n",
        "valDF['result'] = trainDF['result'].astype(int)\r\n"
      ],
      "execution_count": null,
      "outputs": []
    },
    {
      "cell_type": "code",
      "metadata": {
        "id": "dIw9l94Zc4Re",
        "colab": {
          "base_uri": "https://localhost:8080/"
        },
        "outputId": "7890ccbf-d7ee-43c5-ee47-55260c5ce044"
      },
      "source": [
        "from sklearn import metrics\r\n",
        "print('TRAINING DATASET')\r\n",
        "print(metrics.confusion_matrix(trainDF['ploidy'], trainDF['result'], labels=[2,3]))\r\n",
        "print(metrics.classification_report(trainDF['ploidy'], trainDF['result'], labels=[2,3]), '\\n')\r\n",
        "print('VALIDATION DATASET')\r\n",
        "print(metrics.confusion_matrix(valDF['ploidy'], valDF['result'], labels=[2,3]))\r\n",
        "print(metrics.classification_report(valDF['ploidy'], valDF['result'], labels=[2,3]))"
      ],
      "execution_count": null,
      "outputs": [
        {
          "output_type": "stream",
          "text": [
            "TRAINING DATASET\n",
            "[[ 49   0]\n",
            " [ 68 240]]\n",
            "              precision    recall  f1-score   support\n",
            "\n",
            "           2       0.42      1.00      0.59        49\n",
            "           3       1.00      0.78      0.88       308\n",
            "\n",
            "    accuracy                           0.81       357\n",
            "   macro avg       0.71      0.89      0.73       357\n",
            "weighted avg       0.92      0.81      0.84       357\n",
            " \n",
            "\n",
            "VALIDATION DATASET\n",
            "[[13  0]\n",
            " [37 52]]\n",
            "              precision    recall  f1-score   support\n",
            "\n",
            "           2       0.26      1.00      0.41        13\n",
            "           3       1.00      0.58      0.74        89\n",
            "\n",
            "    accuracy                           0.64       102\n",
            "   macro avg       0.63      0.79      0.58       102\n",
            "weighted avg       0.91      0.64      0.70       102\n",
            "\n"
          ],
          "name": "stdout"
        }
      ]
    },
    {
      "cell_type": "code",
      "metadata": {
        "id": "7Ym3NkQ9jNTe"
      },
      "source": [
        "import folium\r\n",
        "from folium import plugins\r\n",
        "\r\n",
        "# prepare mapping capabilities (add basemaps and define mapping function)\r\n",
        "\r\n",
        "# Add basemaps to folium\r\n",
        "basemaps = {\r\n",
        "    'Google Maps': folium.TileLayer(\r\n",
        "        tiles = 'https://mt1.google.com/vt/lyrs=m&x={x}&y={y}&z={z}',\r\n",
        "        attr = 'Google',\r\n",
        "        name = 'Google Maps',\r\n",
        "        overlay = True,\r\n",
        "        control = True\r\n",
        "    ),\r\n",
        "    'Google Satellite': folium.TileLayer(\r\n",
        "        tiles = 'https://mt1.google.com/vt/lyrs=s&x={x}&y={y}&z={z}',\r\n",
        "        attr = 'Google',\r\n",
        "        name = 'Google Satellite',\r\n",
        "        overlay = True,\r\n",
        "        control = True\r\n",
        "    ),\r\n",
        "    'Google Terrain': folium.TileLayer(\r\n",
        "        tiles = 'https://mt1.google.com/vt/lyrs=p&x={x}&y={y}&z={z}',\r\n",
        "        attr = 'Google',\r\n",
        "        name = 'Google Terrain',\r\n",
        "        overlay = True,\r\n",
        "        control = True\r\n",
        "    )\r\n",
        "}\r\n",
        "\r\n",
        "# Define a method for displaying Earth Engine image tiles on a folium map.\r\n",
        "def add_ee_layer(self, ee_object, vis_params, name):\r\n",
        "    \r\n",
        "    try:    \r\n",
        "        # display ee.Image()\r\n",
        "        if isinstance(ee_object, ee.image.Image):    \r\n",
        "            map_id_dict = ee.Image(ee_object).getMapId(vis_params)\r\n",
        "            folium.raster_layers.TileLayer(\r\n",
        "            tiles = map_id_dict['tile_fetcher'].url_format,\r\n",
        "            attr = 'Google Earth Engine',\r\n",
        "            name = name,\r\n",
        "            overlay = True,\r\n",
        "            control = True\r\n",
        "            ).add_to(self)\r\n",
        "        # display ee.ImageCollection()\r\n",
        "        elif isinstance(ee_object, ee.imagecollection.ImageCollection):    \r\n",
        "            ee_object_new = ee_object.mosaic()\r\n",
        "            map_id_dict = ee.Image(ee_object_new).getMapId(vis_params)\r\n",
        "            folium.raster_layers.TileLayer(\r\n",
        "            tiles = map_id_dict['tile_fetcher'].url_format,\r\n",
        "            attr = 'Google Earth Engine',\r\n",
        "            name = name,\r\n",
        "            overlay = True,\r\n",
        "            control = True\r\n",
        "            ).add_to(self)\r\n",
        "        # display ee.Geometry()\r\n",
        "        elif isinstance(ee_object, ee.geometry.Geometry):    \r\n",
        "            folium.GeoJson(\r\n",
        "            data = ee_object.getInfo(),\r\n",
        "            name = name,\r\n",
        "            overlay = True,\r\n",
        "            control = True\r\n",
        "        ).add_to(self)\r\n",
        "        # display ee.FeatureCollection()\r\n",
        "        elif isinstance(ee_object, ee.featurecollection.FeatureCollection):  \r\n",
        "            ee_object_new = ee.Image().paint(ee_object, 0, 2)\r\n",
        "            map_id_dict = ee.Image(ee_object_new).getMapId(vis_params)\r\n",
        "            folium.raster_layers.TileLayer(\r\n",
        "            tiles = map_id_dict['tile_fetcher'].url_format,\r\n",
        "            attr = 'Google Earth Engine',\r\n",
        "            name = name,\r\n",
        "            overlay = True,\r\n",
        "            control = True\r\n",
        "        ).add_to(self)\r\n",
        "    \r\n",
        "    except:\r\n",
        "        print(\"Could not display {}\".format(name))\r\n",
        "    \r\n",
        "# Add EE drawing method to folium.\r\n",
        "folium.Map.add_ee_layer = add_ee_layer\r\n",
        "\r\n",
        "# prepare map\r\n",
        "\r\n",
        "# create a folium map object, centered at RMBL\r\n",
        "m = folium.Map(location=[38.9587,-106.9878], zoom_start=11)\r\n",
        "\r\n",
        "# set visualization parameters\r\n",
        "rgbVis = {'min': 0.0, 'max': 5000, 'bands': ['B4', 'B3', 'B2']}\r\n",
        "vis = {'min':2, 'max':3, 'palette':'red, green'}"
      ],
      "execution_count": null,
      "outputs": []
    },
    {
      "cell_type": "code",
      "metadata": {
        "id": "x2WxkT3UkzxG"
      },
      "source": [
        "basemaps['Google Satellite'].add_to(m)\r\n",
        "\r\n",
        "m.add_ee_layer(result, {'bands':'confidence', 'min':0, 'max':1, 'palette':'red, yellow, green'}, 'Confidence')\r\n",
        "m.add_ee_layer(result, {'bands':'result', 'min':2, 'max':3, 'palette':'#41A7FA, #FA605A'}, 'Ploidy Classification')\r\n",
        "m.add_ee_layer(dip, {'color': 'blue'}, 'Diploid')\r\n",
        "m.add_ee_layer(trip, {'color': 'red'}, 'Triploid')\r\n",
        "\r\n",
        "# add a layer control panel to the map\r\n",
        "m.add_child(folium.LayerControl())\r\n",
        "\r\n",
        "# add fullscreen button\r\n",
        "plugins.Fullscreen().add_to(m)\r\n",
        "\r\n",
        "# display the map\r\n",
        "display(m)\r\n"
      ],
      "execution_count": null,
      "outputs": []
    }
  ]
}