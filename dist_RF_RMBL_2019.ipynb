{
  "nbformat": 4,
  "nbformat_minor": 0,
  "metadata": {
    "colab": {
      "name": "dist_RF_RMBL_2019",
      "provenance": [],
      "collapsed_sections": [],
      "authorship_tag": "ABX9TyNEFJuUNJmXHj5Z/dbcuqeK",
      "include_colab_link": true
    },
    "kernelspec": {
      "name": "python3",
      "display_name": "Python 3"
    }
  },
  "cells": [
    {
      "cell_type": "markdown",
      "metadata": {
        "id": "view-in-github",
        "colab_type": "text"
      },
      "source": [
        "<a href=\"https://colab.research.google.com/github/erin-carroll14/AspenRS/blob/main/dist_RF_RMBL_2019.ipynb\" target=\"_parent\"><img src=\"https://colab.research.google.com/assets/colab-badge.svg\" alt=\"Open In Colab\"/></a>"
      ]
    },
    {
      "cell_type": "code",
      "metadata": {
        "colab": {
          "base_uri": "https://localhost:8080/"
        },
        "id": "GCm2TXG7H9Zk",
        "outputId": "ca4bf417-0c82-4885-f0ab-0fc4f35a20fb"
      },
      "source": [
        "# import earth engine library\r\n",
        "import ee\r\n",
        "import folium\r\n",
        "from folium import plugins\r\n",
        "\r\n",
        "# establish connection to own earth engine account\r\n",
        "ee.Authenticate()\r\n",
        "ee.Initialize()"
      ],
      "execution_count": null,
      "outputs": [
        {
          "output_type": "stream",
          "text": [
            "To authorize access needed by Earth Engine, open the following URL in a web browser and follow the instructions. If the web browser does not start automatically, please manually browse the URL below.\n",
            "\n",
            "    https://accounts.google.com/o/oauth2/auth?client_id=517222506229-vsmmajv00ul0bs7p89v5m89qs8eb9359.apps.googleusercontent.com&scope=https%3A%2F%2Fwww.googleapis.com%2Fauth%2Fearthengine+https%3A%2F%2Fwww.googleapis.com%2Fauth%2Fdevstorage.full_control&redirect_uri=urn%3Aietf%3Awg%3Aoauth%3A2.0%3Aoob&response_type=code&code_challenge=AkHcE93zqMY6nMkD6VFdYk-zf3D2xQEWHGoDGWQd3cw&code_challenge_method=S256\n",
            "\n",
            "The authorization workflow will generate a code, which you should paste in the box below. \n",
            "Enter verification code: 4/1AY0e-g5TWn14Zem-nl_LZO3-yFcz8CkYN3JKfMhjIxU4wMUUsy_6SR-7rTQ\n",
            "\n",
            "Successfully saved authorization token.\n"
          ],
          "name": "stdout"
        }
      ]
    },
    {
      "cell_type": "code",
      "metadata": {
        "id": "0nFNN3q0HPsQ"
      },
      "source": [
        "!git clone https://www.github.com/erin-carroll14/AspenRS.git\r\n",
        "\r\n",
        "%cd /content/AspenRS\r\n",
        "\r\n",
        "from S2SRstack2019 import stacked2019_JunOct, Colorado"
      ],
      "execution_count": null,
      "outputs": []
    },
    {
      "cell_type": "code",
      "metadata": {
        "id": "PHLMwnS4GnHV"
      },
      "source": [
        "# Veg mask\r\n",
        "col = ee.ImageCollection('COPERNICUS/S2_SR').filterBounds(Colorado).filterDate('2019-01-01', '2020-01-01')\r\n",
        "\r\n",
        "# function to get only pixels classified as veg at any point in year\r\n",
        "def getVeg(img):\r\n",
        "  return img.mask(img.select('SCL').eq(4))\r\n",
        "\r\n",
        "colVeg = col.map(getVeg)\r\n",
        "imgVeg = colVeg.qualityMosaic('SCL')\r\n",
        "\r\n",
        "# mask stacked imagery by 2019 veg mask\r\n",
        "stackVeg = stacked2019_JunOct.mask(imgVeg.select('SCL'))\r\n"
      ],
      "execution_count": null,
      "outputs": []
    },
    {
      "cell_type": "code",
      "metadata": {
        "id": "GgtPsMeMYTLz"
      },
      "source": [
        "# clip to RMBL\r\n",
        "RMBL = ee.Geometry.Polygon([[-107.22694538043767,38.75434750566651],\r\n",
        "                            [-106.74629352496892,38.75434750566651],\r\n",
        "                            [-106.74629352496892,39.08236920480586],\r\n",
        "                            [-107.22694538043767,39.08236920480586],\r\n",
        "                            [-107.22694538043767,38.75434750566651]])\r\n",
        "\r\n",
        "stackVegRMBL2019 = stackVeg.clip(RMBL)"
      ],
      "execution_count": null,
      "outputs": []
    },
    {
      "cell_type": "code",
      "metadata": {
        "id": "csoy0qK_Zlte"
      },
      "source": [
        "# prepare reference data\r\n",
        "\r\n",
        "# load aspen reference points\r\n",
        "aspen = ee.FeatureCollection('users/erin_carroll/aspenAssets/refAspen')\r\n",
        "\r\n",
        "# add 'class' field (1=aspen presence)\r\n",
        "def getClass1(f):\r\n",
        "  return f.set('class', 1)\r\n",
        "aspen = aspen.map(getClass1)\r\n",
        "\r\n",
        "# load non-aspen reference points\r\n",
        "nonAspen = ee.FeatureCollection('users/erin_carroll/aspenAssets/refNonAspen')\r\n",
        "\r\n",
        "# add 'class' field (0=absence)\r\n",
        "def getClass0(f):\r\n",
        "  return f.set('class', 0)\r\n",
        "nonAspen = nonAspen.map(getClass0)\r\n",
        "\r\n",
        "# merge aspen and non-aspen points\r\n",
        "ref = aspen.merge(nonAspen)"
      ],
      "execution_count": null,
      "outputs": []
    },
    {
      "cell_type": "code",
      "metadata": {
        "id": "B2xOoWCCbK8h"
      },
      "source": [
        "# prepare training data from reference data\r\n",
        "\r\n",
        "# extract image bands at reference points, keep 'class' property from reference points\r\n",
        "reference = stackVegRMBL2019.sampleRegions(**{\r\n",
        "  'collection': ref,\r\n",
        "  'properties': ['class'],\r\n",
        "  'scale': 10\r\n",
        "})\r\n",
        "\r\n",
        "# subset validation sample (25%)\r\n",
        "random = reference.randomColumn('x')\r\n",
        "validation = random.filter(ee.Filter.lt('x', 0.25))\r\n",
        "training = random.filter(ee.Filter.gte('x', 0.25))\r\n"
      ],
      "execution_count": null,
      "outputs": []
    },
    {
      "cell_type": "code",
      "metadata": {
        "id": "wCoyyenub_YZ"
      },
      "source": [
        "# create and train model\r\n",
        "bandsAll = ['B2', 'B2_1', 'B2_2', 'B2_3', 'B2_4', 'B3', 'B3_1', 'B3_2', 'B3_3', 'B3_4', 'B4', 'B4_1', 'B4_2', 'B4_3', 'B4_4', 'B5', 'B5_1', 'B5_2', 'B5_3', 'B5_4', 'B6', 'B6_1', 'B6_2', 'B6_3', 'B6_4', 'B7', 'B7_1', 'B7_2', 'B7_3', 'B7_4', 'B8', 'B8_1', 'B8_2', 'B8_3', 'B8_4', 'B8A', 'B8A_1', 'B8A_2', 'B8A_3', 'B8A_4', 'B11', 'B11_1', 'B11_2', 'B11_3','B11_4', 'B12', 'B12_1', 'B12_2', 'B12_3', 'B12_4']\r\n",
        "\r\n",
        "classifier = ee.Classifier.smileRandomForest(10).train(**{\r\n",
        "      'features': training,\r\n",
        "      'classProperty': 'class',\r\n",
        "      'inputProperties': bandsAll\r\n",
        "    });"
      ],
      "execution_count": null,
      "outputs": []
    },
    {
      "cell_type": "code",
      "metadata": {
        "id": "LDFQJjtgcXwE"
      },
      "source": [
        "# deploy model\r\n",
        "aspenMask2019 = stackVegRMBL2019.classify(classifier)"
      ],
      "execution_count": null,
      "outputs": []
    },
    {
      "cell_type": "code",
      "metadata": {
        "colab": {
          "base_uri": "https://localhost:8080/"
        },
        "id": "RSfaC-u8celH",
        "outputId": "4137843d-295b-488e-d20d-e4a76bdc6e39"
      },
      "source": [
        "# confusion matrices\r\n",
        "\r\n",
        "# training\r\n",
        "trainAccuracy = classifier.confusionMatrix()\r\n",
        "print('Training error matrix: ', trainAccuracy.getInfo())\r\n",
        "print('Training overall accuracy: ', trainAccuracy.accuracy().getInfo())\r\n",
        "\r\n",
        "# validation\r\n",
        "validated = validation.classify(classifier)\r\n",
        "valAccuracy = validated.errorMatrix('class', 'classification')\r\n",
        "print('Validation error matrix: ', valAccuracy.getInfo())\r\n",
        "print('Validation overall accuracy: ', valAccuracy.accuracy().getInfo())"
      ],
      "execution_count": null,
      "outputs": [
        {
          "output_type": "stream",
          "text": [
            "Training error matrix:  [[527, 0], [8, 567]]\n",
            "Training overall accuracy:  0.9901960784313726\n",
            "Validation error matrix:  [[171, 1], [17, 180]]\n",
            "Validation overall accuracy:  0.9663865546218487\n"
          ],
          "name": "stdout"
        }
      ]
    },
    {
      "cell_type": "code",
      "metadata": {
        "id": "RER4m5OgmmoX"
      },
      "source": [
        "# prepare mapping capabilities (add basemaps and define mapping function)\r\n",
        "\r\n",
        "# Add basemaps to folium\r\n",
        "basemaps = {\r\n",
        "    'Google Satellite': folium.TileLayer(\r\n",
        "        tiles = 'https://mt1.google.com/vt/lyrs=s&x={x}&y={y}&z={z}',\r\n",
        "        attr = 'Google',\r\n",
        "        name = 'Google Satellite',\r\n",
        "        overlay = True,\r\n",
        "        control = True\r\n",
        "    )\r\n",
        "}\r\n",
        "\r\n",
        "# Define a method for displaying Earth Engine image tiles on a folium map.\r\n",
        "def add_ee_layer(self, ee_object, vis_params, name):\r\n",
        "    \r\n",
        "    try:    \r\n",
        "        # display ee.Image()\r\n",
        "        if isinstance(ee_object, ee.image.Image):    \r\n",
        "            map_id_dict = ee.Image(ee_object).getMapId(vis_params)\r\n",
        "            folium.raster_layers.TileLayer(\r\n",
        "            tiles = map_id_dict['tile_fetcher'].url_format,\r\n",
        "            attr = 'Google Earth Engine',\r\n",
        "            name = name,\r\n",
        "            overlay = True,\r\n",
        "            control = True\r\n",
        "            ).add_to(self)\r\n",
        "        # display ee.ImageCollection()\r\n",
        "        elif isinstance(ee_object, ee.imagecollection.ImageCollection):    \r\n",
        "            ee_object_new = ee_object.mosaic()\r\n",
        "            map_id_dict = ee.Image(ee_object_new).getMapId(vis_params)\r\n",
        "            folium.raster_layers.TileLayer(\r\n",
        "            tiles = map_id_dict['tile_fetcher'].url_format,\r\n",
        "            attr = 'Google Earth Engine',\r\n",
        "            name = name,\r\n",
        "            overlay = True,\r\n",
        "            control = True\r\n",
        "            ).add_to(self)\r\n",
        "        # display ee.Geometry()\r\n",
        "        elif isinstance(ee_object, ee.geometry.Geometry):    \r\n",
        "            folium.GeoJson(\r\n",
        "            data = ee_object.getInfo(),\r\n",
        "            name = name,\r\n",
        "            overlay = True,\r\n",
        "            control = True\r\n",
        "        ).add_to(self)\r\n",
        "        # display ee.FeatureCollection()\r\n",
        "        elif isinstance(ee_object, ee.featurecollection.FeatureCollection):  \r\n",
        "            ee_object_new = ee.Image().paint(ee_object, 0, 2)\r\n",
        "            map_id_dict = ee.Image(ee_object_new).getMapId(vis_params)\r\n",
        "            folium.raster_layers.TileLayer(\r\n",
        "            tiles = map_id_dict['tile_fetcher'].url_format,\r\n",
        "            attr = 'Google Earth Engine',\r\n",
        "            name = name,\r\n",
        "            overlay = True,\r\n",
        "            control = True\r\n",
        "        ).add_to(self)\r\n",
        "    \r\n",
        "    except:\r\n",
        "        print(\"Could not display {}\".format(name))\r\n",
        "    \r\n",
        "# Add EE drawing method to folium.\r\n",
        "folium.Map.add_ee_layer = add_ee_layer"
      ],
      "execution_count": null,
      "outputs": []
    },
    {
      "cell_type": "code",
      "metadata": {
        "colab": {
          "base_uri": "https://localhost:8080/"
        },
        "id": "SQB-CFEDnC2c",
        "outputId": "2fe1da62-89ab-41a3-ad17-e4bbac8f21d3"
      },
      "source": [
        "# prepare map\r\n",
        "\r\n",
        "# create a folium map object, centered at RMBL\r\n",
        "m = folium.Map(location=[38.9587,-106.9878], zoom_start=11)\r\n",
        "# set visualization parameters\r\n",
        "rgbVis = {'min': 0.0, 'max': 5000, 'bands': ['B4', 'B3', 'B2']}\r\n",
        "vis = {'min':0, 'max':1, 'palette':'red, green'}\r\n",
        "\r\n",
        "# add fullscreen button\r\n",
        "plugins.Fullscreen().add_to(m)"
      ],
      "execution_count": null,
      "outputs": [
        {
          "output_type": "execute_result",
          "data": {
            "text/plain": [
              "<folium.plugins.fullscreen.Fullscreen at 0x7f180b4e12b0>"
            ]
          },
          "metadata": {
            "tags": []
          },
          "execution_count": 18
        }
      ]
    },
    {
      "cell_type": "code",
      "metadata": {
        "colab": {
          "base_uri": "https://localhost:8080/",
          "height": 712
        },
        "id": "4_rJ9bDZnU_y",
        "outputId": "8445ebb9-876d-4cc8-d004-f854db5c0df0"
      },
      "source": [
        "basemaps['Google Satellite'].add_to(m)\r\n",
        "\r\n",
        "m.add_ee_layer(aspenMask2019, vis, 'Aspen Mask 2019')\r\n",
        "m.add_ee_layer(aspen, {'color': 'yellow'}, 'aspen')\r\n",
        "m.add_ee_layer(nonAspen, {'color': 'purple'}, 'non-aspen')\r\n",
        "\r\n",
        "# add a layer control panel to the map\r\n",
        "m.add_child(folium.LayerControl())\r\n",
        "\r\n",
        "# display the map\r\n",
        "display(m)\r\n"
      ],
      "execution_count": null,
      "outputs": [
        {
          "output_type": "display_data",
          "data": {
            "text/html": [
              "<div style=\"width:100%;\"><div style=\"position:relative;width:100%;height:0;padding-bottom:60%;\"><span style=\"color:#565656\">Make this Notebook Trusted to load map: File -> Trust Notebook</span><iframe src=\"about:blank\" style=\"position:absolute;width:100%;height:100%;left:0;top:0;border:none !important;\" data-html=%3C%21DOCTYPE%20html%3E%0A%3Chead%3E%20%20%20%20%0A%20%20%20%20%3Cmeta%20http-equiv%3D%22content-type%22%20content%3D%22text/html%3B%20charset%3DUTF-8%22%20/%3E%0A%20%20%20%20%3Cscript%3EL_PREFER_CANVAS%3Dfalse%3B%20L_NO_TOUCH%3Dfalse%3B%20L_DISABLE_3D%3Dfalse%3B%3C/script%3E%0A%20%20%20%20%3Cscript%20src%3D%22https%3A//cdn.jsdelivr.net/npm/leaflet%401.4.0/dist/leaflet.js%22%3E%3C/script%3E%0A%20%20%20%20%3Cscript%20src%3D%22https%3A//code.jquery.com/jquery-1.12.4.min.js%22%3E%3C/script%3E%0A%20%20%20%20%3Cscript%20src%3D%22https%3A//maxcdn.bootstrapcdn.com/bootstrap/3.2.0/js/bootstrap.min.js%22%3E%3C/script%3E%0A%20%20%20%20%3Cscript%20src%3D%22https%3A//cdnjs.cloudflare.com/ajax/libs/Leaflet.awesome-markers/2.0.2/leaflet.awesome-markers.js%22%3E%3C/script%3E%0A%20%20%20%20%3Clink%20rel%3D%22stylesheet%22%20href%3D%22https%3A//cdn.jsdelivr.net/npm/leaflet%401.4.0/dist/leaflet.css%22/%3E%0A%20%20%20%20%3Clink%20rel%3D%22stylesheet%22%20href%3D%22https%3A//maxcdn.bootstrapcdn.com/bootstrap/3.2.0/css/bootstrap.min.css%22/%3E%0A%20%20%20%20%3Clink%20rel%3D%22stylesheet%22%20href%3D%22https%3A//maxcdn.bootstrapcdn.com/bootstrap/3.2.0/css/bootstrap-theme.min.css%22/%3E%0A%20%20%20%20%3Clink%20rel%3D%22stylesheet%22%20href%3D%22https%3A//maxcdn.bootstrapcdn.com/font-awesome/4.6.3/css/font-awesome.min.css%22/%3E%0A%20%20%20%20%3Clink%20rel%3D%22stylesheet%22%20href%3D%22https%3A//cdnjs.cloudflare.com/ajax/libs/Leaflet.awesome-markers/2.0.2/leaflet.awesome-markers.css%22/%3E%0A%20%20%20%20%3Clink%20rel%3D%22stylesheet%22%20href%3D%22https%3A//rawcdn.githack.com/python-visualization/folium/master/folium/templates/leaflet.awesome.rotate.css%22/%3E%0A%20%20%20%20%3Cstyle%3Ehtml%2C%20body%20%7Bwidth%3A%20100%25%3Bheight%3A%20100%25%3Bmargin%3A%200%3Bpadding%3A%200%3B%7D%3C/style%3E%0A%20%20%20%20%3Cstyle%3E%23map%20%7Bposition%3Aabsolute%3Btop%3A0%3Bbottom%3A0%3Bright%3A0%3Bleft%3A0%3B%7D%3C/style%3E%0A%20%20%20%20%0A%20%20%20%20%3Cmeta%20name%3D%22viewport%22%20content%3D%22width%3Ddevice-width%2C%0A%20%20%20%20%20%20%20%20initial-scale%3D1.0%2C%20maximum-scale%3D1.0%2C%20user-scalable%3Dno%22%20/%3E%0A%20%20%20%20%3Cstyle%3E%23map_324ee04a54d2486797230705499783f9%20%7B%0A%20%20%20%20%20%20%20%20position%3A%20relative%3B%0A%20%20%20%20%20%20%20%20width%3A%20100.0%25%3B%0A%20%20%20%20%20%20%20%20height%3A%20100.0%25%3B%0A%20%20%20%20%20%20%20%20left%3A%200.0%25%3B%0A%20%20%20%20%20%20%20%20top%3A%200.0%25%3B%0A%20%20%20%20%20%20%20%20%7D%0A%20%20%20%20%3C/style%3E%0A%20%20%20%20%3Cscript%20src%3D%22https%3A//cdnjs.cloudflare.com/ajax/libs/leaflet.fullscreen/1.4.2/Control.FullScreen.min.js%22%3E%3C/script%3E%0A%20%20%20%20%3Clink%20rel%3D%22stylesheet%22%20href%3D%22https%3A//cdnjs.cloudflare.com/ajax/libs/leaflet.fullscreen/1.4.2/Control.FullScreen.min.css%22/%3E%0A%3C/head%3E%0A%3Cbody%3E%20%20%20%20%0A%20%20%20%20%0A%20%20%20%20%3Cdiv%20class%3D%22folium-map%22%20id%3D%22map_324ee04a54d2486797230705499783f9%22%20%3E%3C/div%3E%0A%3C/body%3E%0A%3Cscript%3E%20%20%20%20%0A%20%20%20%20%0A%20%20%20%20%0A%20%20%20%20%20%20%20%20var%20bounds%20%3D%20null%3B%0A%20%20%20%20%0A%0A%20%20%20%20var%20map_324ee04a54d2486797230705499783f9%20%3D%20L.map%28%0A%20%20%20%20%20%20%20%20%27map_324ee04a54d2486797230705499783f9%27%2C%20%7B%0A%20%20%20%20%20%20%20%20center%3A%20%5B38.9587%2C%20-106.9878%5D%2C%0A%20%20%20%20%20%20%20%20zoom%3A%2011%2C%0A%20%20%20%20%20%20%20%20maxBounds%3A%20bounds%2C%0A%20%20%20%20%20%20%20%20layers%3A%20%5B%5D%2C%0A%20%20%20%20%20%20%20%20worldCopyJump%3A%20false%2C%0A%20%20%20%20%20%20%20%20crs%3A%20L.CRS.EPSG3857%2C%0A%20%20%20%20%20%20%20%20zoomControl%3A%20true%2C%0A%20%20%20%20%20%20%20%20%7D%29%3B%0A%0A%0A%20%20%20%20%0A%20%20%20%20var%20tile_layer_95d341e550864717ab107f4e1f472f48%20%3D%20L.tileLayer%28%0A%20%20%20%20%20%20%20%20%27https%3A//%7Bs%7D.tile.openstreetmap.org/%7Bz%7D/%7Bx%7D/%7By%7D.png%27%2C%0A%20%20%20%20%20%20%20%20%7B%0A%20%20%20%20%20%20%20%20%22attribution%22%3A%20null%2C%0A%20%20%20%20%20%20%20%20%22detectRetina%22%3A%20false%2C%0A%20%20%20%20%20%20%20%20%22maxNativeZoom%22%3A%2018%2C%0A%20%20%20%20%20%20%20%20%22maxZoom%22%3A%2018%2C%0A%20%20%20%20%20%20%20%20%22minZoom%22%3A%200%2C%0A%20%20%20%20%20%20%20%20%22noWrap%22%3A%20false%2C%0A%20%20%20%20%20%20%20%20%22opacity%22%3A%201%2C%0A%20%20%20%20%20%20%20%20%22subdomains%22%3A%20%22abc%22%2C%0A%20%20%20%20%20%20%20%20%22tms%22%3A%20false%0A%7D%29.addTo%28map_324ee04a54d2486797230705499783f9%29%3B%0A%20%20%20%20%0A%20%20%20%20%20%20%20%20%20%20%20%20L.control.fullscreen%28%7B%0A%20%20%20%20%20%20%20%20%20%20%20%20%20%20%20%20position%3A%20%27topleft%27%2C%0A%20%20%20%20%20%20%20%20%20%20%20%20%20%20%20%20title%3A%20%27Full%20Screen%27%2C%0A%20%20%20%20%20%20%20%20%20%20%20%20%20%20%20%20titleCancel%3A%20%27Exit%20Full%20Screen%27%2C%0A%20%20%20%20%20%20%20%20%20%20%20%20%20%20%20%20forceSeparateButton%3A%20false%2C%0A%20%20%20%20%20%20%20%20%20%20%20%20%20%20%20%20%7D%29.addTo%28map_324ee04a54d2486797230705499783f9%29%3B%0A%20%20%20%20%20%20%20%20%20%20%20%20map_324ee04a54d2486797230705499783f9.on%28%27enterFullscreen%27%2C%20function%28%29%7B%0A%20%20%20%20%20%20%20%20%20%20%20%20%20%20%20%20console.log%28%27entered%20fullscreen%27%29%3B%0A%20%20%20%20%20%20%20%20%20%20%20%20%7D%29%3B%0A%0A%20%20%20%20%20%20%20%20%0A%20%20%20%20var%20tile_layer_404e26b140b644e69c6bb72636b4a9e8%20%3D%20L.tileLayer%28%0A%20%20%20%20%20%20%20%20%27https%3A//mt1.google.com/vt/lyrs%3Ds%26x%3D%7Bx%7D%26y%3D%7By%7D%26z%3D%7Bz%7D%27%2C%0A%20%20%20%20%20%20%20%20%7B%0A%20%20%20%20%20%20%20%20%22attribution%22%3A%20%22Google%22%2C%0A%20%20%20%20%20%20%20%20%22detectRetina%22%3A%20false%2C%0A%20%20%20%20%20%20%20%20%22maxNativeZoom%22%3A%2018%2C%0A%20%20%20%20%20%20%20%20%22maxZoom%22%3A%2018%2C%0A%20%20%20%20%20%20%20%20%22minZoom%22%3A%200%2C%0A%20%20%20%20%20%20%20%20%22noWrap%22%3A%20false%2C%0A%20%20%20%20%20%20%20%20%22opacity%22%3A%201%2C%0A%20%20%20%20%20%20%20%20%22subdomains%22%3A%20%22abc%22%2C%0A%20%20%20%20%20%20%20%20%22tms%22%3A%20false%0A%7D%29.addTo%28map_324ee04a54d2486797230705499783f9%29%3B%0A%20%20%20%20var%20tile_layer_39e0b0796acf45dd92e7a1093fa4d225%20%3D%20L.tileLayer%28%0A%20%20%20%20%20%20%20%20%27https%3A//earthengine.googleapis.com/v1alpha/projects/earthengine-legacy/maps/a140f87fb2f36f8c02747d5b69f7e5dd-5765bc8e5a4daaa961afd62e977e58c9/tiles/%7Bz%7D/%7Bx%7D/%7By%7D%27%2C%0A%20%20%20%20%20%20%20%20%7B%0A%20%20%20%20%20%20%20%20%22attribution%22%3A%20%22Google%20Earth%20Engine%22%2C%0A%20%20%20%20%20%20%20%20%22detectRetina%22%3A%20false%2C%0A%20%20%20%20%20%20%20%20%22maxNativeZoom%22%3A%2018%2C%0A%20%20%20%20%20%20%20%20%22maxZoom%22%3A%2018%2C%0A%20%20%20%20%20%20%20%20%22minZoom%22%3A%200%2C%0A%20%20%20%20%20%20%20%20%22noWrap%22%3A%20false%2C%0A%20%20%20%20%20%20%20%20%22opacity%22%3A%201%2C%0A%20%20%20%20%20%20%20%20%22subdomains%22%3A%20%22abc%22%2C%0A%20%20%20%20%20%20%20%20%22tms%22%3A%20false%0A%7D%29.addTo%28map_324ee04a54d2486797230705499783f9%29%3B%0A%20%20%20%20var%20tile_layer_511cf4ad85b64dbcb6751fa2fa460aaf%20%3D%20L.tileLayer%28%0A%20%20%20%20%20%20%20%20%27https%3A//earthengine.googleapis.com/v1alpha/projects/earthengine-legacy/maps/e883e653a5f67afebde3f464214c01c8-4d12351922d8de81c65420c7f5c690e5/tiles/%7Bz%7D/%7Bx%7D/%7By%7D%27%2C%0A%20%20%20%20%20%20%20%20%7B%0A%20%20%20%20%20%20%20%20%22attribution%22%3A%20%22Google%20Earth%20Engine%22%2C%0A%20%20%20%20%20%20%20%20%22detectRetina%22%3A%20false%2C%0A%20%20%20%20%20%20%20%20%22maxNativeZoom%22%3A%2018%2C%0A%20%20%20%20%20%20%20%20%22maxZoom%22%3A%2018%2C%0A%20%20%20%20%20%20%20%20%22minZoom%22%3A%200%2C%0A%20%20%20%20%20%20%20%20%22noWrap%22%3A%20false%2C%0A%20%20%20%20%20%20%20%20%22opacity%22%3A%201%2C%0A%20%20%20%20%20%20%20%20%22subdomains%22%3A%20%22abc%22%2C%0A%20%20%20%20%20%20%20%20%22tms%22%3A%20false%0A%7D%29.addTo%28map_324ee04a54d2486797230705499783f9%29%3B%0A%20%20%20%20var%20tile_layer_9ef71415134c431e946b42983f1da48a%20%3D%20L.tileLayer%28%0A%20%20%20%20%20%20%20%20%27https%3A//earthengine.googleapis.com/v1alpha/projects/earthengine-legacy/maps/9538e155faaedb29ae1f3e9999c965c6-3bdcafb6d4e392f09c3a4ce72755e893/tiles/%7Bz%7D/%7Bx%7D/%7By%7D%27%2C%0A%20%20%20%20%20%20%20%20%7B%0A%20%20%20%20%20%20%20%20%22attribution%22%3A%20%22Google%20Earth%20Engine%22%2C%0A%20%20%20%20%20%20%20%20%22detectRetina%22%3A%20false%2C%0A%20%20%20%20%20%20%20%20%22maxNativeZoom%22%3A%2018%2C%0A%20%20%20%20%20%20%20%20%22maxZoom%22%3A%2018%2C%0A%20%20%20%20%20%20%20%20%22minZoom%22%3A%200%2C%0A%20%20%20%20%20%20%20%20%22noWrap%22%3A%20false%2C%0A%20%20%20%20%20%20%20%20%22opacity%22%3A%201%2C%0A%20%20%20%20%20%20%20%20%22subdomains%22%3A%20%22abc%22%2C%0A%20%20%20%20%20%20%20%20%22tms%22%3A%20false%0A%7D%29.addTo%28map_324ee04a54d2486797230705499783f9%29%3B%0A%20%20%20%20%0A%20%20%20%20%20%20%20%20%20%20%20%20var%20layer_control_c041a118ee004bb882463165e795029b%20%3D%20%7B%0A%20%20%20%20%20%20%20%20%20%20%20%20%20%20%20%20base_layers%20%3A%20%7B%20%22openstreetmap%22%20%3A%20tile_layer_95d341e550864717ab107f4e1f472f48%2C%20%7D%2C%0A%20%20%20%20%20%20%20%20%20%20%20%20%20%20%20%20overlays%20%3A%20%7B%20%22Google%20Satellite%22%20%3A%20tile_layer_404e26b140b644e69c6bb72636b4a9e8%2C%22Aspen%20Mask%202019%22%20%3A%20tile_layer_39e0b0796acf45dd92e7a1093fa4d225%2C%22aspen%22%20%3A%20tile_layer_511cf4ad85b64dbcb6751fa2fa460aaf%2C%22non-aspen%22%20%3A%20tile_layer_9ef71415134c431e946b42983f1da48a%2C%20%7D%0A%20%20%20%20%20%20%20%20%20%20%20%20%20%20%20%20%7D%3B%0A%20%20%20%20%20%20%20%20%20%20%20%20L.control.layers%28%0A%20%20%20%20%20%20%20%20%20%20%20%20%20%20%20%20layer_control_c041a118ee004bb882463165e795029b.base_layers%2C%0A%20%20%20%20%20%20%20%20%20%20%20%20%20%20%20%20layer_control_c041a118ee004bb882463165e795029b.overlays%2C%0A%20%20%20%20%20%20%20%20%20%20%20%20%20%20%20%20%7Bposition%3A%20%27topright%27%2C%0A%20%20%20%20%20%20%20%20%20%20%20%20%20%20%20%20%20collapsed%3A%20true%2C%0A%20%20%20%20%20%20%20%20%20%20%20%20%20%20%20%20%20autoZIndex%3A%20true%0A%20%20%20%20%20%20%20%20%20%20%20%20%20%20%20%20%7D%29.addTo%28map_324ee04a54d2486797230705499783f9%29%3B%0A%20%20%20%20%20%20%20%20%20%20%20%20%0A%20%20%20%20%20%20%20%20%0A%3C/script%3E onload=\"this.contentDocument.open();this.contentDocument.write(    decodeURIComponent(this.getAttribute('data-html')));this.contentDocument.close();\" allowfullscreen webkitallowfullscreen mozallowfullscreen></iframe></div></div>"
            ],
            "text/plain": [
              "<folium.folium.Map at 0x7f180b4e10f0>"
            ]
          },
          "metadata": {
            "tags": []
          }
        }
      ]
    }
  ]
}